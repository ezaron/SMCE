{
 "cells": [
  {
   "cell_type": "code",
   "execution_count": 7,
   "id": "binding-detector",
   "metadata": {},
   "outputs": [
    {
     "name": "stdout",
     "output_type": "stream",
     "text": [
      "First measurement time = 2014-04-12 14:34:20.57\n",
      "Last measurement time = 2014-04-12 15:25:46.99\n"
     ]
    },
    {
     "name": "stderr",
     "output_type": "stream",
     "text": [
      "┌ Warning: Assignment to `hr` in soft scope is ambiguous because a global variable by the same name exists: `hr` will be treated as a new local. Disambiguate by using `local hr` to suppress this warning or `global hr` to assign to the existing global variable.\n",
      "└ @ nothing /home/jovyan/SMCE/test.jl:83\n",
      "┌ Warning: Assignment to `mi` in soft scope is ambiguous because a global variable by the same name exists: `mi` will be treated as a new local. Disambiguate by using `local mi` to suppress this warning or `global mi` to assign to the existing global variable.\n",
      "└ @ nothing /home/jovyan/SMCE/test.jl:84\n",
      "┌ Warning: Assignment to `se` in soft scope is ambiguous because a global variable by the same name exists: `se` will be treated as a new local. Disambiguate by using `local se` to suppress this warning or `global se` to assign to the existing global variable.\n",
      "└ @ nothing /home/jovyan/SMCE/test.jl:85\n"
     ]
    },
    {
     "name": "stdout",
     "output_type": "stream",
     "text": [
      "Working on cid = M2\n",
      "Working on cid = S2\n",
      "Working on cid = K1\n",
      "Working on cid = O1\n",
      "DONE!\n",
      "Writing results to file.\n",
      "Output file has been written. This script is done!\n"
     ]
    }
   ],
   "source": [
    "include(\"test.jl\")"
   ]
  },
  {
   "cell_type": "code",
   "execution_count": 6,
   "id": "earlier-wellington",
   "metadata": {},
   "outputs": [],
   "source": [
    "using Base.GC ; GC.gc()"
   ]
  }
 ],
 "metadata": {
  "kernelspec": {
   "display_name": "Julia 1.7.3",
   "language": "julia",
   "name": "julia-1.7"
  },
  "language_info": {
   "file_extension": ".jl",
   "mimetype": "application/julia",
   "name": "julia",
   "version": "1.7.3"
  }
 },
 "nbformat": 4,
 "nbformat_minor": 5
}
